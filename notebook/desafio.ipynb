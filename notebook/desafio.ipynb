{
 "cells": [
  {
   "cell_type": "markdown",
   "id": "eae9b952",
   "metadata": {},
   "source": [
    "# Desafio"
   ]
  },
  {
   "cell_type": "markdown",
   "id": "3db8d641",
   "metadata": {},
   "source": [
    "## Importar bibliotecas e checar base de dados"
   ]
  },
  {
   "cell_type": "code",
   "execution_count": 1,
   "id": "5c40be79",
   "metadata": {},
   "outputs": [],
   "source": [
    "import pandas as pd\n"
   ]
  },
  {
   "cell_type": "code",
   "execution_count": 2,
   "id": "53d10753",
   "metadata": {},
   "outputs": [
    {
     "name": "stdout",
     "output_type": "stream",
     "text": [
      "['Base de clientes', 'Base de receita', 'Base de custódia']\n"
     ]
    }
   ],
   "source": [
    "# Checar as abas da planilha\n",
    "base = pd.ExcelFile(\"Base Desafio.xlsx\")\n",
    "print(base.sheet_names)"
   ]
  },
  {
   "cell_type": "code",
   "execution_count": 3,
   "id": "53ae68f1",
   "metadata": {},
   "outputs": [],
   "source": [
    "# Ler as abas! obs: como abri antes no sheets e vi que que a receita possui 1 linha inicial em branco ja utilizo o skiprow\n",
    "clientes = base.parse(\"Base de clientes\")\n",
    "receita = base.parse(\"Base de receita\", skiprows=1)\n",
    "custodia = base.parse(\"Base de custódia\")"
   ]
  },
  {
   "cell_type": "code",
   "execution_count": 4,
   "id": "2ffb32fe",
   "metadata": {},
   "outputs": [],
   "source": [
    "# Por se tratar de uma tabela com poucas colunas e ter checado antes no excel/sheets ja conheço o nome das colunas e pedi logo para que tudo ficasse sem espaços, acentos e tudo minúsculo para facilitar ainda mais a limpeza e análise\n",
    "def limpar_colunas(df):\n",
    "    df.columns = (\n",
    "        df.columns.str.strip()\n",
    "        .str.lower()\n",
    "        .str.normalize('NFKD')\n",
    "        .str.encode('ascii', errors='ignore')\n",
    "        .str.decode('utf-8')\n",
    "        .str.replace(\" \", \"_\")\n",
    "    )\n",
    "    return df\n",
    "\n",
    "clientes = limpar_colunas(clientes)\n",
    "receita = limpar_colunas(receita)\n",
    "custodia = limpar_colunas(custodia)"
   ]
  },
  {
   "cell_type": "code",
   "execution_count": 5,
   "id": "c50a4246",
   "metadata": {},
   "outputs": [
    {
     "name": "stdout",
     "output_type": "stream",
     "text": [
      "Clientes\n",
      "    cliente assessor_responsavel inicio_de_relacionamento\n",
      "0  24431465                A9156               2020-09-27\n",
      "1  16733019                A7586               2021-08-06\n",
      "2  52510844                A7586               2023-02-18\n",
      "3  31360529                A7807               2019-09-17\n",
      "4  61091111                A2788               2020-06-14 \n",
      "\n",
      "Receita\n",
      "         mes   cliente classe_de_ativo      receita\n",
      "0 2020-10-01  24431465      Renda Fixa  1274.985000\n",
      "1 2020-10-01  24431465  Renda Variável  2338.983333\n",
      "2 2020-11-01  24431465      Renda Fixa   618.696667\n",
      "3 2020-11-01  24431465  Renda Variável  1004.128333\n",
      "4 2020-12-01  24431465      Renda Fixa   896.013333 \n",
      "\n",
      "Custódia\n",
      "         mes   cliente classe_de_ativo  volume_alocado\n",
      "0 2020-10-01  24431465      Renda Fixa      3960828.42\n",
      "1 2020-10-01  24431465  Renda Variável      3652849.27\n",
      "2 2020-11-01  24431465      Renda Fixa      2457243.42\n",
      "3 2020-11-01  24431465  Renda Variável      1715858.17\n",
      "4 2020-12-01  24431465      Renda Fixa      4047248.41 \n",
      "\n"
     ]
    }
   ],
   "source": [
    "# Quais as primeiras linhas de cada aba? mesmo ja abrindo no sheets sempre bom conferir no código\n",
    "print(\"Clientes\")\n",
    "print(clientes.head(), '\\n')\n",
    "\n",
    "print(\"Receita\")\n",
    "print(receita.head(), '\\n') # ja pulando a primeira linha em branco!\n",
    "\n",
    "print(\"Custódia\")\n",
    "print(custodia.head(), '\\n')"
   ]
  },
  {
   "cell_type": "markdown",
   "id": "caa31c4b",
   "metadata": {},
   "source": [
    "## Limpeza de dados"
   ]
  },
  {
   "cell_type": "code",
   "execution_count": 6,
   "id": "8c6a61a8",
   "metadata": {},
   "outputs": [],
   "source": [
    "# 1. Renomeando algumas colunas\n",
    "clientes.rename(columns={\n",
    "    \"assessor_responsavel\": \"assessor\",\n",
    "    \"inicio_de_relacionamento\": \"data_relacionamento\"\n",
    "    }, inplace=True)"
   ]
  },
  {
   "cell_type": "code",
   "execution_count": 7,
   "id": "9f31dc47",
   "metadata": {},
   "outputs": [
    {
     "name": "stdout",
     "output_type": "stream",
     "text": [
      "Clientes - Dados faltantes:\n",
      " cliente                0\n",
      "assessor               0\n",
      "data_relacionamento    0\n",
      "dtype: int64 \n",
      "\n",
      "Receita - Dados faltantes:\n",
      " mes                0\n",
      "cliente            0\n",
      "classe_de_ativo    0\n",
      "receita            0\n",
      "dtype: int64 \n",
      "\n",
      "Custódia - Dados faltantes:\n",
      " mes                0\n",
      "cliente            0\n",
      "classe_de_ativo    1\n",
      "volume_alocado     1\n",
      "dtype: int64 \n",
      "\n"
     ]
    }
   ],
   "source": [
    "# 2. verificar se tem algo em branco\n",
    "print(\"Clientes - Dados faltantes:\\n\", clientes.isnull().sum(), \"\\n\")\n",
    "print(\"Receita - Dados faltantes:\\n\", receita.isnull().sum(), \"\\n\")\n",
    "print(\"Custódia - Dados faltantes:\\n\", custodia.isnull().sum(), \"\\n\")\n",
    "\n",
    "# analisei que em uma linha temos o cliente e o mês mas não temos a classe de ativo de volume alocado, manter essa linha pode prejudicar na análise futuramente resolvi limpá-la\n",
    "custodia.dropna(subset=[\"classe_de_ativo\", \"volume_alocado\"], inplace=True)"
   ]
  },
  {
   "cell_type": "code",
   "execution_count": 8,
   "id": "d4253ff5",
   "metadata": {},
   "outputs": [
    {
     "name": "stdout",
     "output_type": "stream",
     "text": [
      "Clientes - Duplicados: 0\n",
      "Receita - Duplicados: 0\n",
      "Custódia - Duplicados: 0\n"
     ]
    }
   ],
   "source": [
    "# 3. Clientes duplicados?\n",
    "print(\"Clientes - Duplicados:\", clientes.duplicated().sum())\n",
    "print(\"Receita - Duplicados:\", receita.duplicated().sum())\n",
    "print(\"Custódia - Duplicados:\", custodia.duplicated().sum())"
   ]
  },
  {
   "cell_type": "markdown",
   "id": "b164a3c6",
   "metadata": {},
   "source": [
    "## 1. Análise de Receita e Ticket Médio"
   ]
  },
  {
   "cell_type": "code",
   "execution_count": 9,
   "id": "0d2b61f0",
   "metadata": {},
   "outputs": [
    {
     "data": {
      "text/html": [
       "<div>\n",
       "<style scoped>\n",
       "    .dataframe tbody tr th:only-of-type {\n",
       "        vertical-align: middle;\n",
       "    }\n",
       "\n",
       "    .dataframe tbody tr th {\n",
       "        vertical-align: top;\n",
       "    }\n",
       "\n",
       "    .dataframe thead th {\n",
       "        text-align: right;\n",
       "    }\n",
       "</style>\n",
       "<table border=\"1\" class=\"dataframe\">\n",
       "  <thead>\n",
       "    <tr style=\"text-align: right;\">\n",
       "      <th></th>\n",
       "      <th>mes</th>\n",
       "      <th>cliente</th>\n",
       "      <th>classe_de_ativo</th>\n",
       "      <th>receita</th>\n",
       "      <th>assessor</th>\n",
       "    </tr>\n",
       "  </thead>\n",
       "  <tbody>\n",
       "    <tr>\n",
       "      <th>0</th>\n",
       "      <td>2020-10-01</td>\n",
       "      <td>24431465</td>\n",
       "      <td>Renda Fixa</td>\n",
       "      <td>1274.985000</td>\n",
       "      <td>A9156</td>\n",
       "    </tr>\n",
       "    <tr>\n",
       "      <th>1</th>\n",
       "      <td>2020-10-01</td>\n",
       "      <td>24431465</td>\n",
       "      <td>Renda Variável</td>\n",
       "      <td>2338.983333</td>\n",
       "      <td>A9156</td>\n",
       "    </tr>\n",
       "    <tr>\n",
       "      <th>2</th>\n",
       "      <td>2020-11-01</td>\n",
       "      <td>24431465</td>\n",
       "      <td>Renda Fixa</td>\n",
       "      <td>618.696667</td>\n",
       "      <td>A9156</td>\n",
       "    </tr>\n",
       "    <tr>\n",
       "      <th>3</th>\n",
       "      <td>2020-11-01</td>\n",
       "      <td>24431465</td>\n",
       "      <td>Renda Variável</td>\n",
       "      <td>1004.128333</td>\n",
       "      <td>A9156</td>\n",
       "    </tr>\n",
       "    <tr>\n",
       "      <th>4</th>\n",
       "      <td>2020-12-01</td>\n",
       "      <td>24431465</td>\n",
       "      <td>Renda Fixa</td>\n",
       "      <td>896.013333</td>\n",
       "      <td>A9156</td>\n",
       "    </tr>\n",
       "  </tbody>\n",
       "</table>\n",
       "</div>"
      ],
      "text/plain": [
       "         mes   cliente classe_de_ativo      receita assessor\n",
       "0 2020-10-01  24431465      Renda Fixa  1274.985000    A9156\n",
       "1 2020-10-01  24431465  Renda Variável  2338.983333    A9156\n",
       "2 2020-11-01  24431465      Renda Fixa   618.696667    A9156\n",
       "3 2020-11-01  24431465  Renda Variável  1004.128333    A9156\n",
       "4 2020-12-01  24431465      Renda Fixa   896.013333    A9156"
      ]
     },
     "execution_count": 9,
     "metadata": {},
     "output_type": "execute_result"
    }
   ],
   "source": [
    "# Juntando primeiro a aba de clientes com a aba de receita para que eu possa calcular a relação\n",
    "receita = receita.merge(clientes[[\"cliente\", \"assessor\"]], on=\"cliente\", how=\"left\")\n",
    "receita.head()"
   ]
  },
  {
   "cell_type": "code",
   "execution_count": 10,
   "id": "7069edb2",
   "metadata": {},
   "outputs": [
    {
     "data": {
      "text/html": [
       "<div>\n",
       "<style scoped>\n",
       "    .dataframe tbody tr th:only-of-type {\n",
       "        vertical-align: middle;\n",
       "    }\n",
       "\n",
       "    .dataframe tbody tr th {\n",
       "        vertical-align: top;\n",
       "    }\n",
       "\n",
       "    .dataframe thead th {\n",
       "        text-align: right;\n",
       "    }\n",
       "</style>\n",
       "<table border=\"1\" class=\"dataframe\">\n",
       "  <thead>\n",
       "    <tr style=\"text-align: right;\">\n",
       "      <th></th>\n",
       "      <th>mes</th>\n",
       "      <th>cliente</th>\n",
       "      <th>classe_de_ativo</th>\n",
       "      <th>receita</th>\n",
       "      <th>assessor</th>\n",
       "    </tr>\n",
       "  </thead>\n",
       "  <tbody>\n",
       "    <tr>\n",
       "      <th>90</th>\n",
       "      <td>2024-07-01</td>\n",
       "      <td>24431465</td>\n",
       "      <td>Renda Fixa</td>\n",
       "      <td>1050.203333</td>\n",
       "      <td>A9156</td>\n",
       "    </tr>\n",
       "    <tr>\n",
       "      <th>91</th>\n",
       "      <td>2024-07-01</td>\n",
       "      <td>24431465</td>\n",
       "      <td>Renda Variável</td>\n",
       "      <td>3008.108333</td>\n",
       "      <td>A9156</td>\n",
       "    </tr>\n",
       "    <tr>\n",
       "      <th>92</th>\n",
       "      <td>2024-08-01</td>\n",
       "      <td>24431465</td>\n",
       "      <td>Renda Fixa</td>\n",
       "      <td>1545.562500</td>\n",
       "      <td>A9156</td>\n",
       "    </tr>\n",
       "    <tr>\n",
       "      <th>93</th>\n",
       "      <td>2024-08-01</td>\n",
       "      <td>24431465</td>\n",
       "      <td>Renda Variável</td>\n",
       "      <td>1395.065833</td>\n",
       "      <td>A9156</td>\n",
       "    </tr>\n",
       "    <tr>\n",
       "      <th>94</th>\n",
       "      <td>2024-09-01</td>\n",
       "      <td>24431465</td>\n",
       "      <td>Renda Fixa</td>\n",
       "      <td>576.380833</td>\n",
       "      <td>A9156</td>\n",
       "    </tr>\n",
       "  </tbody>\n",
       "</table>\n",
       "</div>"
      ],
      "text/plain": [
       "          mes   cliente classe_de_ativo      receita assessor\n",
       "90 2024-07-01  24431465      Renda Fixa  1050.203333    A9156\n",
       "91 2024-07-01  24431465  Renda Variável  3008.108333    A9156\n",
       "92 2024-08-01  24431465      Renda Fixa  1545.562500    A9156\n",
       "93 2024-08-01  24431465  Renda Variável  1395.065833    A9156\n",
       "94 2024-09-01  24431465      Renda Fixa   576.380833    A9156"
      ]
     },
     "execution_count": 10,
     "metadata": {},
     "output_type": "execute_result"
    }
   ],
   "source": [
    "# Receita dos últimos 12 m por assessor\n",
    "data_max = receita[\"mes\"].max()\n",
    "data_min = data_max - pd.DateOffset(months=12)\n",
    "receita_12m = receita[(receita[\"mes\"] > data_min) & (receita[\"mes\"] <= data_max)]\n",
    "receita_12m.head()"
   ]
  },
  {
   "cell_type": "code",
   "execution_count": 11,
   "id": "2a891941",
   "metadata": {},
   "outputs": [
    {
     "data": {
      "text/html": [
       "<div>\n",
       "<style scoped>\n",
       "    .dataframe tbody tr th:only-of-type {\n",
       "        vertical-align: middle;\n",
       "    }\n",
       "\n",
       "    .dataframe tbody tr th {\n",
       "        vertical-align: top;\n",
       "    }\n",
       "\n",
       "    .dataframe thead th {\n",
       "        text-align: right;\n",
       "    }\n",
       "</style>\n",
       "<table border=\"1\" class=\"dataframe\">\n",
       "  <thead>\n",
       "    <tr style=\"text-align: right;\">\n",
       "      <th></th>\n",
       "      <th>assessor</th>\n",
       "      <th>receita_total_12m</th>\n",
       "    </tr>\n",
       "  </thead>\n",
       "  <tbody>\n",
       "    <tr>\n",
       "      <th>6</th>\n",
       "      <td>A7773</td>\n",
       "      <td>496736.307500</td>\n",
       "    </tr>\n",
       "    <tr>\n",
       "      <th>2</th>\n",
       "      <td>A2788</td>\n",
       "      <td>409213.385833</td>\n",
       "    </tr>\n",
       "    <tr>\n",
       "      <th>9</th>\n",
       "      <td>A9156</td>\n",
       "      <td>389584.190000</td>\n",
       "    </tr>\n",
       "    <tr>\n",
       "      <th>0</th>\n",
       "      <td>A1089</td>\n",
       "      <td>307204.604167</td>\n",
       "    </tr>\n",
       "    <tr>\n",
       "      <th>5</th>\n",
       "      <td>A7586</td>\n",
       "      <td>294505.910833</td>\n",
       "    </tr>\n",
       "    <tr>\n",
       "      <th>4</th>\n",
       "      <td>A7433</td>\n",
       "      <td>250841.980833</td>\n",
       "    </tr>\n",
       "    <tr>\n",
       "      <th>7</th>\n",
       "      <td>A7807</td>\n",
       "      <td>236813.585000</td>\n",
       "    </tr>\n",
       "    <tr>\n",
       "      <th>8</th>\n",
       "      <td>A8547</td>\n",
       "      <td>202665.371667</td>\n",
       "    </tr>\n",
       "    <tr>\n",
       "      <th>1</th>\n",
       "      <td>A2094</td>\n",
       "      <td>179002.604167</td>\n",
       "    </tr>\n",
       "    <tr>\n",
       "      <th>3</th>\n",
       "      <td>A3512</td>\n",
       "      <td>114595.911667</td>\n",
       "    </tr>\n",
       "  </tbody>\n",
       "</table>\n",
       "</div>"
      ],
      "text/plain": [
       "  assessor  receita_total_12m\n",
       "6    A7773      496736.307500\n",
       "2    A2788      409213.385833\n",
       "9    A9156      389584.190000\n",
       "0    A1089      307204.604167\n",
       "5    A7586      294505.910833\n",
       "4    A7433      250841.980833\n",
       "7    A7807      236813.585000\n",
       "8    A8547      202665.371667\n",
       "1    A2094      179002.604167\n",
       "3    A3512      114595.911667"
      ]
     },
     "execution_count": 11,
     "metadata": {},
     "output_type": "execute_result"
    }
   ],
   "source": [
    "# Agrupando agora por asssessor\n",
    "receita_total = receita_12m.groupby(\"assessor\")[\"receita\"].sum().reset_index()\n",
    "receita_total.rename(columns={\"receita\": \"receita_total_12m\"}, inplace=True)\n",
    "receita_total.sort_values(\"receita_total_12m\", ascending=False)\n",
    "\n",
    "# O Assessor A7773 foi o que obtve a maior receita entre os 10 assessores nos últimos 12 meses"
   ]
  },
  {
   "cell_type": "code",
   "execution_count": 12,
   "id": "727cee12",
   "metadata": {},
   "outputs": [
    {
     "name": "stdout",
     "output_type": "stream",
     "text": [
      "Número total de clientes ativos: 100\n"
     ]
    }
   ],
   "source": [
    "# Qual número total de clientes ativos?\n",
    "clientes_ativos = custodia[\"cliente\"].unique()\n",
    "clientes_ativos_df = clientes[clientes[\"cliente\"].isin(clientes_ativos)]\n",
    "numero_clientes_ativos = len(clientes_ativos_df[\"cliente\"].unique())\n",
    "print(f\"Número total de clientes ativos: {numero_clientes_ativos}\")"
   ]
  },
  {
   "cell_type": "code",
   "execution_count": 13,
   "id": "757c221e",
   "metadata": {},
   "outputs": [
    {
     "name": "stdout",
     "output_type": "stream",
     "text": [
      "  assessor  clientes_ativos\n",
      "6    A7773               17\n",
      "2    A2788               14\n",
      "9    A9156               14\n",
      "0    A1089               11\n",
      "5    A7586               10\n",
      "4    A7433                9\n",
      "7    A7807                8\n",
      "8    A8547                7\n",
      "1    A2094                6\n",
      "3    A3512                4\n"
     ]
    }
   ],
   "source": [
    "# E qual o número atual de clientes ativos por assessor?\n",
    "clientes_por_assessor = (\n",
    "    receita.groupby(\"assessor\")[\"cliente\"]\n",
    "    .nunique()\n",
    "    .reset_index()\n",
    "    .sort_values(\"cliente\", ascending=False)\n",
    "    .rename(columns={\"cliente\": \"clientes_ativos\"})\n",
    ")\n",
    "print(clientes_por_assessor)\n",
    "\n",
    "# Além de ter a maior receita nos últimos 12 meses o assessor A7773 tem o maior número de clientes ativos, possivelmente pode ser a razão de ter a maior receita dentre os assessores"
   ]
  },
  {
   "cell_type": "code",
   "execution_count": 14,
   "id": "1affe5fe",
   "metadata": {},
   "outputs": [
    {
     "data": {
      "text/html": [
       "<div>\n",
       "<style scoped>\n",
       "    .dataframe tbody tr th:only-of-type {\n",
       "        vertical-align: middle;\n",
       "    }\n",
       "\n",
       "    .dataframe tbody tr th {\n",
       "        vertical-align: top;\n",
       "    }\n",
       "\n",
       "    .dataframe thead th {\n",
       "        text-align: right;\n",
       "    }\n",
       "</style>\n",
       "<table border=\"1\" class=\"dataframe\">\n",
       "  <thead>\n",
       "    <tr style=\"text-align: right;\">\n",
       "      <th></th>\n",
       "      <th>mes</th>\n",
       "      <th>cliente</th>\n",
       "      <th>classe_de_ativo</th>\n",
       "      <th>volume_alocado</th>\n",
       "      <th>assessor</th>\n",
       "    </tr>\n",
       "  </thead>\n",
       "  <tbody>\n",
       "    <tr>\n",
       "      <th>0</th>\n",
       "      <td>2020-10-01</td>\n",
       "      <td>24431465</td>\n",
       "      <td>Renda Fixa</td>\n",
       "      <td>3960828.42</td>\n",
       "      <td>A9156</td>\n",
       "    </tr>\n",
       "    <tr>\n",
       "      <th>1</th>\n",
       "      <td>2020-10-01</td>\n",
       "      <td>24431465</td>\n",
       "      <td>Renda Variável</td>\n",
       "      <td>3652849.27</td>\n",
       "      <td>A9156</td>\n",
       "    </tr>\n",
       "    <tr>\n",
       "      <th>2</th>\n",
       "      <td>2020-11-01</td>\n",
       "      <td>24431465</td>\n",
       "      <td>Renda Fixa</td>\n",
       "      <td>2457243.42</td>\n",
       "      <td>A9156</td>\n",
       "    </tr>\n",
       "    <tr>\n",
       "      <th>3</th>\n",
       "      <td>2020-11-01</td>\n",
       "      <td>24431465</td>\n",
       "      <td>Renda Variável</td>\n",
       "      <td>1715858.17</td>\n",
       "      <td>A9156</td>\n",
       "    </tr>\n",
       "    <tr>\n",
       "      <th>4</th>\n",
       "      <td>2020-12-01</td>\n",
       "      <td>24431465</td>\n",
       "      <td>Renda Fixa</td>\n",
       "      <td>4047248.41</td>\n",
       "      <td>A9156</td>\n",
       "    </tr>\n",
       "  </tbody>\n",
       "</table>\n",
       "</div>"
      ],
      "text/plain": [
       "         mes   cliente classe_de_ativo  volume_alocado assessor\n",
       "0 2020-10-01  24431465      Renda Fixa      3960828.42    A9156\n",
       "1 2020-10-01  24431465  Renda Variável      3652849.27    A9156\n",
       "2 2020-11-01  24431465      Renda Fixa      2457243.42    A9156\n",
       "3 2020-11-01  24431465  Renda Variável      1715858.17    A9156\n",
       "4 2020-12-01  24431465      Renda Fixa      4047248.41    A9156"
      ]
     },
     "execution_count": 14,
     "metadata": {},
     "output_type": "execute_result"
    }
   ],
   "source": [
    "# Associando cliente ao assessor\n",
    "custodia_com_assessor = custodia.merge(\n",
    "    clientes[[\"cliente\", \"assessor\"]],\n",
    "    on=\"cliente\",\n",
    "    how=\"left\")\n",
    "custodia_com_assessor.head()"
   ]
  },
  {
   "cell_type": "code",
   "execution_count": 15,
   "id": "de23b842",
   "metadata": {},
   "outputs": [
    {
     "name": "stdout",
     "output_type": "stream",
     "text": [
      "  assessor  volume_total  num_clientes  ticket_medio\n",
      "0    A7807  1.993346e+09             8  2.491682e+08\n",
      "1    A9156  3.415575e+09            14  2.439696e+08\n",
      "2    A8547  1.705282e+09             7  2.436118e+08\n",
      "3    A7773  4.061874e+09            17  2.389338e+08\n",
      "4    A7586  2.372794e+09            10  2.372794e+08\n",
      "5    A2094  1.325881e+09             6  2.209801e+08\n",
      "6    A1089  2.332782e+09            11  2.120711e+08\n",
      "7    A2788  2.920416e+09            14  2.086011e+08\n",
      "8    A3512  8.156479e+08             4  2.039120e+08\n",
      "9    A7433  1.822226e+09             9  2.024696e+08\n"
     ]
    }
   ],
   "source": [
    "# Ticket Médio (estava dividido em mais de 1 célula e resolvi por o código pra ele em uma só)\n",
    "ticket_medio_por_assessor = (\n",
    "    custodia_com_assessor.groupby(\"assessor\")\n",
    "    .agg(\n",
    "        volume_total=(\"volume_alocado\", \"sum\"),\n",
    "        num_clientes=(\"cliente\", \"nunique\")\n",
    "    )\n",
    "    .assign(\n",
    "        ticket_medio=lambda x: x[\"volume_total\"] / x[\"num_clientes\"]\n",
    "    )\n",
    "    .sort_values(\"ticket_medio\", ascending=False)\n",
    "    .reset_index()\n",
    ")\n",
    "print(ticket_medio_por_assessor)"
   ]
  },
  {
   "cell_type": "code",
   "execution_count": 16,
   "id": "e017e816",
   "metadata": {},
   "outputs": [
    {
     "name": "stdout",
     "output_type": "stream",
     "text": [
      "  assessor     volume_total  num_clientes   ticket_medio\n",
      "0    A7807 1,993,345,991.23             8 249,168,248.90\n",
      "1    A9156 3,415,574,599.09            14 243,969,614.22\n",
      "2    A8547 1,705,282,333.64             7 243,611,761.95\n",
      "3    A7773 4,061,874,403.83            17 238,933,788.46\n",
      "4    A7586 2,372,793,633.93            10 237,279,363.39\n",
      "5    A2094 1,325,880,841.63             6 220,980,140.27\n",
      "6    A1089 2,332,782,343.61            11 212,071,122.15\n",
      "7    A2788 2,920,415,527.81            14 208,601,109.13\n",
      "8    A3512   815,647,922.58             4 203,911,980.65\n",
      "9    A7433 1,822,226,473.92             9 202,469,608.21\n"
     ]
    }
   ],
   "source": [
    "# Formatando os números para exibir sem notação científica pois havia esquecido\n",
    "pd.set_option('display.float_format', '{:,.2f}'.format)\n",
    "print(ticket_medio_por_assessor)"
   ]
  },
  {
   "cell_type": "code",
   "execution_count": 17,
   "id": "7cb2eee6",
   "metadata": {},
   "outputs": [
    {
     "name": "stdout",
     "output_type": "stream",
     "text": [
      "  assessor     volume_total  num_clientes   ticket_medio\n",
      "0    A7807 1,993,345,991.23             8 249,168,248.90\n",
      "1    A9156 3,415,574,599.09            14 243,969,614.22\n",
      "2    A8547 1,705,282,333.64             7 243,611,761.95\n"
     ]
    }
   ],
   "source": [
    "# Destacando apenas os top 3 assessores, mesmo que na linha anterior ja estivesse na ordem\n",
    "top3_assessores = ticket_medio_por_assessor.nlargest(3, 'ticket_medio')\n",
    "print(top3_assessores)"
   ]
  },
  {
   "cell_type": "markdown",
   "id": "03c097da",
   "metadata": {},
   "source": [
    "## 2. Gráfico de Evolução Mensal de Receita por Classe de Ativo"
   ]
  },
  {
   "cell_type": "code",
   "execution_count": 18,
   "id": "7aa59164",
   "metadata": {},
   "outputs": [],
   "source": [
    "import seaborn as sns\n",
    "import matplotlib.pyplot as plt"
   ]
  },
  {
   "cell_type": "code",
   "execution_count": 19,
   "id": "cdb58279",
   "metadata": {},
   "outputs": [],
   "source": [
    "# Ajuste de data\n",
    "receita[\"mes\"] = pd.to_datetime(receita[\"mes\"])"
   ]
  },
  {
   "cell_type": "code",
   "execution_count": 20,
   "id": "8b120965",
   "metadata": {},
   "outputs": [
    {
     "name": "stdout",
     "output_type": "stream",
     "text": [
      "            mes   cliente classe_de_ativo  receita assessor\n",
      "66   2023-07-01  24431465      Renda Fixa 1,106.68    A9156\n",
      "67   2023-07-01  24431465  Renda Variável   495.47    A9156\n",
      "68   2023-08-01  24431465      Renda Fixa 1,643.62    A9156\n",
      "69   2023-08-01  24431465  Renda Variável 1,458.54    A9156\n",
      "70   2023-09-01  24431465      Renda Fixa   919.91    A9156\n",
      "...         ...       ...             ...      ...      ...\n",
      "8735 2025-04-01  65624938  Renda Variável 2,724.98    A2788\n",
      "8736 2025-05-01  65624938      Renda Fixa 1,390.26    A2788\n",
      "8737 2025-05-01  65624938  Renda Variável 1,999.93    A2788\n",
      "8738 2025-06-01  65624938      Renda Fixa    50.88    A2788\n",
      "8739 2025-06-01  65624938  Renda Variável 3,673.94    A2788\n",
      "\n",
      "[4634 rows x 5 columns]\n"
     ]
    }
   ],
   "source": [
    "# Filtrando apenas os últimos 24 meses\n",
    "data_max = receita[\"mes\"].max()\n",
    "data_min = data_max - pd.DateOffset(months=24)\n",
    "receita_24m = receita[(receita[\"mes\"] > data_min) & (receita[\"mes\"] <= data_max)]\n",
    "print(receita_24m)"
   ]
  },
  {
   "cell_type": "code",
   "execution_count": 21,
   "id": "ff093cb7",
   "metadata": {},
   "outputs": [
    {
     "name": "stdout",
     "output_type": "stream",
     "text": [
      "          mes classe_de_ativo    receita\n",
      "0  2023-07-01      Renda Fixa  57,743.50\n",
      "1  2023-07-01  Renda Variável 138,654.49\n",
      "2  2023-08-01      Renda Fixa  63,419.60\n",
      "3  2023-08-01  Renda Variável 122,288.64\n",
      "4  2023-09-01      Renda Fixa  74,521.80\n",
      "5  2023-09-01  Renda Variável 147,533.78\n",
      "6  2023-10-01      Renda Fixa  69,350.29\n",
      "7  2023-10-01  Renda Variável 156,887.57\n",
      "8  2023-11-01      Renda Fixa  78,311.97\n",
      "9  2023-11-01  Renda Variável 155,496.84\n",
      "10 2023-12-01      Renda Fixa  70,004.87\n",
      "11 2023-12-01  Renda Variável 153,995.94\n",
      "12 2024-01-01      Renda Fixa  74,297.64\n",
      "13 2024-01-01  Renda Variável 144,437.58\n",
      "14 2024-02-01      Renda Fixa  70,346.93\n",
      "15 2024-02-01  Renda Variável 154,754.52\n",
      "16 2024-03-01      Renda Fixa  81,332.41\n",
      "17 2024-03-01  Renda Variável 165,880.40\n",
      "18 2024-04-01      Renda Fixa  76,054.81\n",
      "19 2024-04-01  Renda Variável 151,413.35\n",
      "20 2024-05-01      Renda Fixa  86,385.84\n",
      "21 2024-05-01  Renda Variável 145,178.35\n",
      "22 2024-06-01      Renda Fixa  78,283.31\n",
      "23 2024-06-01  Renda Variável 173,797.71\n",
      "24 2024-07-01      Renda Fixa  79,325.21\n",
      "25 2024-07-01  Renda Variável 152,307.26\n",
      "26 2024-08-01      Renda Fixa  78,340.27\n",
      "27 2024-08-01  Renda Variável 147,410.33\n",
      "28 2024-09-01      Renda Fixa  73,491.55\n",
      "29 2024-09-01  Renda Variável 146,315.78\n",
      "30 2024-10-01      Renda Fixa  83,358.00\n",
      "31 2024-10-01  Renda Variável 184,310.12\n",
      "32 2024-11-01      Renda Fixa  81,109.70\n",
      "33 2024-11-01  Renda Variável 154,993.73\n",
      "34 2024-12-01      Renda Fixa  82,232.94\n",
      "35 2024-12-01  Renda Variável 163,766.98\n",
      "36 2025-01-01      Renda Fixa  74,674.59\n",
      "37 2025-01-01  Renda Variável 145,407.60\n",
      "38 2025-02-01      Renda Fixa  84,829.91\n",
      "39 2025-02-01  Renda Variável 174,393.60\n",
      "40 2025-03-01      Renda Fixa  85,764.82\n",
      "41 2025-03-01  Renda Variável 151,110.62\n",
      "42 2025-04-01      Renda Fixa  81,936.76\n",
      "43 2025-04-01  Renda Variável 158,957.91\n",
      "44 2025-05-01      Renda Fixa  92,073.49\n",
      "45 2025-05-01  Renda Variável 166,600.32\n",
      "46 2025-06-01      Renda Fixa  82,877.33\n",
      "47 2025-06-01  Renda Variável 155,575.03\n"
     ]
    }
   ],
   "source": [
    "# Gerando variável de evolução mensal para o gráfico\n",
    "evolucao_mensal = receita_24m.groupby([\"mes\", \"classe_de_ativo\"])[\"receita\"].sum().reset_index()\n",
    "print(evolucao_mensal)"
   ]
  },
  {
   "cell_type": "code",
   "execution_count": 22,
   "id": "a497b4ea",
   "metadata": {},
   "outputs": [
    {
     "data": {
      "image/png": "[encoded data removed]",
      "text/plain": [
       "<Figure size 1200x600 with 1 Axes>"
      ]
     },
     "metadata": {},
     "output_type": "display_data"
    }
   ],
   "source": [
    "# Gráfico!\n",
    "plt.figure(figsize=(12,6))\n",
    "ax = sns.lineplot(\n",
    "    data=evolucao_mensal, \n",
    "    x=\"mes\", \n",
    "    y=\"receita\", \n",
    "    hue=\"classe_de_ativo\", \n",
    "    marker=\"o\", \n",
    "    linewidth=2.5,\n",
    "    markersize=8\n",
    ")\n",
    "\n",
    "# Rótulos (quero mostrar os primeiros e últimos valores de cada)\n",
    "for classe in evolucao_mensal['classe_de_ativo'].unique():\n",
    "    dados_classe = evolucao_mensal[evolucao_mensal['classe_de_ativo'] == classe].sort_values('mes')\n",
    "    \n",
    "    # Primeiro valor\n",
    "    primeiro = dados_classe.iloc[0]\n",
    "    ax.annotate(\n",
    "        f'{primeiro[\"receita\"]/1e4:,.1f}', \n",
    "        (primeiro[\"mes\"], primeiro[\"receita\"]),\n",
    "        xytext=(-25, 15), \n",
    "        textcoords='offset points',\n",
    "        fontsize=10,\n",
    "        fontweight='bold',\n",
    "        bbox=dict(boxstyle='round,pad=0.5', fc='white', ec='gray', lw=0.5, alpha=0.9)\n",
    "    )\n",
    "    \n",
    "    # Último valor\n",
    "    ultimo = dados_classe.iloc[-1]\n",
    "    ax.annotate(\n",
    "        f'{ultimo[\"receita\"]/1e4:,.1f}', \n",
    "        (ultimo[\"mes\"], ultimo[\"receita\"]),\n",
    "        xytext=(15, -20),\n",
    "        textcoords='offset points',\n",
    "        fontsize=10,\n",
    "        fontweight='bold',\n",
    "        bbox=dict(boxstyle='round,pad=0.5', fc='white', ec='gray', lw=0.5, alpha=0.9)\n",
    "    )\n",
    "\n",
    "plt.title(\"Evolução Mensal da Receita por Classe de Ativo\\n(Valores em dezenas de milhares R$)\", pad=20)\n",
    "plt.xlabel(\"Mês\", labelpad=10)\n",
    "plt.ylabel(\"Receita (x10.000 R$)\", labelpad=10)  # Rótulo corrigido\n",
    "plt.xticks(rotation=45)\n",
    "plt.grid(axis='y', linestyle='--', alpha=0.5)\n",
    "plt.legend(title='Classe de Ativo', bbox_to_anchor=(1.05, 1), loc='upper left')\n",
    "\n",
    "plt.tight_layout()\n",
    "plt.show()"
   ]
  },
  {
   "cell_type": "code",
   "execution_count": 23,
   "id": "d26dd911",
   "metadata": {},
   "outputs": [
    {
     "name": "stdout",
     "output_type": "stream",
     "text": [
      "Crescimento Percentual por Classe de Ativo:\n",
      "classe_de_ativo\n",
      "Renda Fixa       43.50\n",
      "Renda Variável   12.20\n",
      "\n",
      "A classe que mais cresceu foi 'Renda Fixa' com 43.5% de aumento\n"
     ]
    }
   ],
   "source": [
    "# Calcular o crescimento percentual por classe de ativo\n",
    "crescimento = (\n",
    "    evolucao_mensal.groupby('classe_de_ativo')['receita']\n",
    "    .apply(lambda x: (x.iloc[-1] - x.iloc[0]) / x.iloc[0] * 100)\n",
    "    .round(1)\n",
    "    .sort_values(ascending=False)\n",
    ")\n",
    "\n",
    "# Visualização\n",
    "print(\"Crescimento Percentual por Classe de Ativo:\")\n",
    "print(crescimento.to_string())\n",
    "\n",
    "# Classe com maior crescimento\n",
    "print(f\"\\nA classe que mais cresceu foi 'Renda Fixa' com 43.5% de aumento\")"
   ]
  },
  {
   "cell_type": "markdown",
   "id": "e46ca8b7",
   "metadata": {},
   "source": [
    "## 3. Bese de Clientes por perfil"
   ]
  },
  {
   "cell_type": "markdown",
   "id": "8cc1c14d",
   "metadata": {},
   "source": [
    "### A) Quantos clientes private existem?"
   ]
  },
  {
   "cell_type": "code",
   "execution_count": 24,
   "id": "a906d905",
   "metadata": {},
   "outputs": [
    {
     "name": "stdout",
     "output_type": "stream",
     "text": [
      "     cliente  volume_alocado   perfil\n",
      "0   10616501  105,245,776.20  Private\n",
      "1   12216212  342,467,582.33  Private\n",
      "2   12919415  264,478,273.48  Private\n",
      "3   15715945  311,126,108.96  Private\n",
      "4   16308246  354,938,876.38  Private\n",
      "..       ...             ...      ...\n",
      "95  96437183  230,225,992.38  Private\n",
      "96  97741849  261,758,516.21  Private\n",
      "97  98385945  235,504,419.21  Private\n",
      "98  99521384  163,803,942.53  Private\n",
      "99  99717708  379,031,550.77  Private\n",
      "\n",
      "[100 rows x 3 columns]\n",
      "     cliente assessor data_relacionamento  volume_alocado   perfil\n",
      "0   24431465    A9156          2020-09-27  287,753,625.62  Private\n",
      "1   16733019    A7586          2021-08-06  261,923,679.27  Private\n",
      "2   52510844    A7586          2023-02-18  140,841,967.48  Private\n",
      "3   31360529    A7807          2019-09-17  353,107,614.41  Private\n",
      "4   61091111    A2788          2020-06-14  338,522,487.27  Private\n",
      "..       ...      ...                 ...             ...      ...\n",
      "95  20444953    A9156          2022-02-20  182,930,325.75  Private\n",
      "96  92954108    A7773          2020-07-25  306,178,070.72  Private\n",
      "97  44783110    A9156          2020-05-23  299,915,935.16  Private\n",
      "98  41304314    A2788          2020-03-08  331,401,852.67  Private\n",
      "99  65624938    A2788          2023-05-09  132,448,933.26  Private\n",
      "\n",
      "[100 rows x 5 columns]\n"
     ]
    }
   ],
   "source": [
    "# agrupando para saber o volume por cliente\n",
    "volume_por_cliente = custodia.groupby(\"cliente\")[\"volume_alocado\"].sum().reset_index()\n",
    "\n",
    "# criando nova coluna para saber os privates\n",
    "volume_por_cliente[\"perfil\"] = volume_por_cliente[\"volume_alocado\"].apply(\n",
    "    lambda x: \"Private\" if x >= 3_000_000 else \"Outros\"\n",
    ")\n",
    "print(volume_por_cliente)\n",
    "\n",
    "# volume + assessor (juntando dados)\n",
    "clientes_com_volume = clientes.merge(volume_por_cliente, on=\"cliente\", how=\"left\")\n",
    "print(clientes_com_volume)"
   ]
  },
  {
   "cell_type": "code",
   "execution_count": 25,
   "id": "0e1604ef",
   "metadata": {},
   "outputs": [
    {
     "name": "stdout",
     "output_type": "stream",
     "text": [
      "Quantidade de clientes Private: 100\n"
     ]
    }
   ],
   "source": [
    "# Resposta com quantidade de clientes Private\n",
    "qtd_private = clientes_com_volume[clientes_com_volume[\"perfil\"] == \"Private\"][\"cliente\"].nunique()\n",
    "print(\"Quantidade de clientes Private:\", qtd_private)"
   ]
  },
  {
   "cell_type": "markdown",
   "id": "a1da1793",
   "metadata": {},
   "source": [
    "### B) Qual assessor tem mais clientes desse perfil?"
   ]
  },
  {
   "cell_type": "code",
   "execution_count": 26,
   "id": "a4eaa5a8",
   "metadata": {},
   "outputs": [
    {
     "name": "stdout",
     "output_type": "stream",
     "text": [
      "Assessor com mais clientes Private: A7773 (17 clientes)\n"
     ]
    }
   ],
   "source": [
    "private_por_assessor = clientes_com_volume[clientes_com_volume[\"perfil\"] == \"Private\"]\n",
    "mais_private = private_por_assessor[\"assessor\"].value_counts().reset_index().iloc[0]\n",
    "print(f\"Assessor com mais clientes Private: {mais_private['assessor']} ({mais_private['count']} clientes)\")"
   ]
  },
  {
   "cell_type": "markdown",
   "id": "76d734b6",
   "metadata": {},
   "source": [
    "### C) Qual a receita média gerada por esses clientes?"
   ]
  },
  {
   "cell_type": "code",
   "execution_count": 27,
   "id": "226c06a3",
   "metadata": {},
   "outputs": [
    {
     "name": "stdout",
     "output_type": "stream",
     "text": [
      "            mes   cliente classe_de_ativo  receita assessor\n",
      "0    2020-10-01  24431465      Renda Fixa 1,274.98    A9156\n",
      "1    2020-10-01  24431465  Renda Variável 2,338.98    A9156\n",
      "2    2020-11-01  24431465      Renda Fixa   618.70    A9156\n",
      "3    2020-11-01  24431465  Renda Variável 1,004.13    A9156\n",
      "4    2020-12-01  24431465      Renda Fixa   896.01    A9156\n",
      "...         ...       ...             ...      ...      ...\n",
      "8735 2025-04-01  65624938  Renda Variável 2,724.98    A2788\n",
      "8736 2025-05-01  65624938      Renda Fixa 1,390.26    A2788\n",
      "8737 2025-05-01  65624938  Renda Variável 1,999.93    A2788\n",
      "8738 2025-06-01  65624938      Renda Fixa    50.88    A2788\n",
      "8739 2025-06-01  65624938  Renda Variável 3,673.94    A2788\n",
      "\n",
      "[8740 rows x 5 columns]\n"
     ]
    }
   ],
   "source": [
    "#Lista dos Clientes private e receita\n",
    "clientes_private = private_por_assessor[\"cliente\"].unique()\n",
    "receita_private = receita[receita[\"cliente\"].isin(clientes_private)]\n",
    "print(receita_private)"
   ]
  },
  {
   "cell_type": "code",
   "execution_count": 28,
   "id": "8a67d92e",
   "metadata": {},
   "outputs": [
    {
     "name": "stdout",
     "output_type": "stream",
     "text": [
      "Receita média gerada por cliente Private: R$ 106,342.73\n"
     ]
    }
   ],
   "source": [
    "# Receita Média de clientes private\n",
    "media_receita = receita_private.groupby(\"cliente\")[\"receita\"].sum().mean()\n",
    "print(f\"Receita média gerada por cliente Private: R$ {media_receita:,.2f}\")"
   ]
  },
  {
   "cell_type": "markdown",
   "id": "f58512f9",
   "metadata": {},
   "source": [
    "## 4. Clientes com Receita Decrescente"
   ]
  },
  {
   "cell_type": "code",
   "execution_count": 29,
   "id": "9d8da346",
   "metadata": {},
   "outputs": [
    {
     "name": "stdout",
     "output_type": "stream",
     "text": [
      "            mes   cliente classe_de_ativo  receita assessor\n",
      "106  2025-03-01  24431465      Renda Fixa   362.47    A9156\n",
      "107  2025-03-01  24431465  Renda Variável 2,119.87    A9156\n",
      "108  2025-04-01  24431465      Renda Fixa   232.02    A9156\n",
      "109  2025-04-01  24431465  Renda Variável 2,003.29    A9156\n",
      "110  2025-05-01  24431465      Renda Fixa   263.02    A9156\n",
      "...         ...       ...             ...      ...      ...\n",
      "8735 2025-04-01  65624938  Renda Variável 2,724.98    A2788\n",
      "8736 2025-05-01  65624938      Renda Fixa 1,390.26    A2788\n",
      "8737 2025-05-01  65624938  Renda Variável 1,999.93    A2788\n",
      "8738 2025-06-01  65624938      Renda Fixa    50.88    A2788\n",
      "8739 2025-06-01  65624938  Renda Variável 3,673.94    A2788\n",
      "\n",
      "[800 rows x 5 columns]\n"
     ]
    }
   ],
   "source": [
    "# Juntar os 4 últimos meses e criar um filtro para esses meses\n",
    "ultimos_4_meses = receita[\"mes\"].sort_values().unique()[-4:]\n",
    "receita_ultimos4 = receita[receita[\"mes\"].isin(ultimos_4_meses)]\n",
    "print(receita_ultimos4)"
   ]
  },
  {
   "cell_type": "code",
   "execution_count": 30,
   "id": "2b94f05b",
   "metadata": {},
   "outputs": [
    {
     "name": "stdout",
     "output_type": "stream",
     "text": [
      "      cliente        mes  receita\n",
      "0    10616501 2025-03-01 3,146.98\n",
      "1    10616501 2025-04-01 3,927.87\n",
      "2    10616501 2025-05-01   659.00\n",
      "3    10616501 2025-06-01 3,816.99\n",
      "4    12216212 2025-03-01 2,481.43\n",
      "..        ...        ...      ...\n",
      "395  99521384 2025-06-01 2,850.53\n",
      "396  99717708 2025-03-01 3,969.71\n",
      "397  99717708 2025-04-01 2,336.84\n",
      "398  99717708 2025-05-01 2,844.24\n",
      "399  99717708 2025-06-01 4,874.08\n",
      "\n",
      "[400 rows x 3 columns]\n"
     ]
    }
   ],
   "source": [
    "# receita por cliente + mês\n",
    "receita_mensal = receita_ultimos4.groupby([\"cliente\", \"mes\"])[\"receita\"].sum().reset_index()\n",
    "print(receita_mensal)"
   ]
  },
  {
   "cell_type": "code",
   "execution_count": 31,
   "id": "d12d4980",
   "metadata": {},
   "outputs": [
    {
     "name": "stdout",
     "output_type": "stream",
     "text": [
      "    cliente  2025-03-01 00:00:00  2025-04-01 00:00:00  2025-05-01 00:00:00  \\\n",
      "0  41304314             4,208.70             3,059.43             1,893.04   \n",
      "1  61451925             3,413.61             2,721.06             1,345.72   \n",
      "2  82100173             3,706.98             2,940.26             1,964.15   \n",
      "\n",
      "   2025-06-01 00:00:00 assessor  \n",
      "0             1,759.83    A2788  \n",
      "1               685.14    A7433  \n",
      "2             1,689.08    A7433  \n"
     ]
    }
   ],
   "source": [
    "# Tabela\n",
    "\n",
    "# relação de meses para cada coluna\n",
    "receita_pivot = receita_mensal.pivot(index=\"cliente\", columns=\"mes\", values=\"receita\")\n",
    "\n",
    "# ordenando por data\n",
    "receita_pivot = receita_pivot.sort_index(axis=1)\n",
    "\n",
    "# função\n",
    "def caiu_3x(linha):\n",
    "    return all(\n",
    "        linha.iloc[i] > linha.iloc[i + 1]\n",
    "        for i in range(len(linha) - 1)\n",
    "    )\n",
    "clientes_em_queda = receita_pivot[receita_pivot.apply(caiu_3x, axis=1)].reset_index()\n",
    "\n",
    "# assessor responsável\n",
    "clientes_em_queda = clientes_em_queda.merge(clientes[[\"cliente\", \"assessor\"]], on=\"cliente\", how=\"left\")\n",
    "\n",
    "print(clientes_em_queda)\n",
    "\n",
    "# obs: aqui resolvi usar o plotly e também fazer mais a frente um gráfico para melhor visualização"
   ]
  },
  {
   "cell_type": "code",
   "execution_count": 32,
   "id": "23f62309",
   "metadata": {},
   "outputs": [
    {
     "data": {
      "application/vnd.plotly.v1+json": {
       "config": {
        "plotlyServerURL": "https://plot.ly"
       },
       "data": [
        {
         "cells": {
          "align": "left",
          "fill": {
           "color": "#E5ECF6"
          },
          "values": [
           [
            41304314,
            61451925,
            82100173
           ],
           [
            "A2788",
            "A7433",
            "A7433"
           ],
           [
            "R$ 4.208,70",
            "R$ 3.413,61",
            "R$ 3.706,98"
           ],
           [
            "R$ 3.059,43",
            "R$ 2.721,06",
            "R$ 2.940,26"
           ],
           [
            "R$ 1.893,04",
            "R$ 1.345,72",
            "R$ 1.964,15"
           ],
           [
            "R$ 1.759,83",
            "R$ 685,14",
            "R$ 1.689,08"
           ]
          ]
         },
         "header": {
          "align": "left",
          "fill": {
           "color": "#0B1C39"
          },
          "font": {
           "color": "white",
           "size": 13
          },
          "values": [
           "Cliente",
           "Assessor",
           "Mar/2025",
           "Apr/2025",
           "May/2025",
           "Jun/2025"
          ]
         },
         "type": "table"
        }
       ],
       "layout": {
        "height": 400,
        "template": {
         "data": {
          "bar": [
           {
            "error_x": {
             "color": "#2a3f5f"
            },
            "error_y": {
             "color": "#2a3f5f"
            },
            "marker": {
             "line": {
              "color": "#E5ECF6",
              "width": 0.5
             },
             "pattern": {
              "fillmode": "overlay",
              "size": 10,
              "solidity": 0.2
             }
            },
            "type": "bar"
           }
          ],
          "barpolar": [
           {
            "marker": {
             "line": {
              "color": "#E5ECF6",
              "width": 0.5
             },
             "pattern": {
              "fillmode": "overlay",
              "size": 10,
              "solidity": 0.2
             }
            },
            "type": "barpolar"
           }
          ],
          "carpet": [
           {
            "aaxis": {
             "endlinecolor": "#2a3f5f",
             "gridcolor": "white",
             "linecolor": "white",
             "minorgridcolor": "white",
             "startlinecolor": "#2a3f5f"
            },
            "baxis": {
             "endlinecolor": "#2a3f5f",
             "gridcolor": "white",
             "linecolor": "white",
             "minorgridcolor": "white",
             "startlinecolor": "#2a3f5f"
            },
            "type": "carpet"
           }
          ],
          "choropleth": [
           {
            "colorbar": {
             "outlinewidth": 0,
             "ticks": ""
            },
            "type": "choropleth"
           }
          ],
          "contour": [
           {
            "colorbar": {
             "outlinewidth": 0,
             "ticks": ""
            },
            "colorscale": [
             [
              0,
              "#0d0887"
             ],
             [
              0.1111111111111111,
              "#46039f"
             ],
             [
              0.2222222222222222,
              "#7201a8"
             ],
             [
              0.3333333333333333,
              "#9c179e"
             ],
             [
              0.4444444444444444,
              "#bd3786"
             ],
             [
              0.5555555555555556,
              "#d8576b"
             ],
             [
              0.6666666666666666,
              "#ed7953"
             ],
             [
              0.7777777777777778,
              "#fb9f3a"
             ],
             [
              0.8888888888888888,
              "#fdca26"
             ],
             [
              1,
              "#f0f921"
             ]
            ],
            "type": "contour"
           }
          ],
          "contourcarpet": [
           {
            "colorbar": {
             "outlinewidth": 0,
             "ticks": ""
            },
            "type": "contourcarpet"
           }
          ],
          "heatmap": [
           {
            "colorbar": {
             "outlinewidth": 0,
             "ticks": ""
            },
            "colorscale": [
             [
              0,
              "#0d0887"
             ],
             [
              0.1111111111111111,
              "#46039f"
             ],
             [
              0.2222222222222222,
              "#7201a8"
             ],
             [
              0.3333333333333333,
              "#9c179e"
             ],
             [
              0.4444444444444444,
              "#bd3786"
             ],
             [
              0.5555555555555556,
              "#d8576b"
             ],
             [
              0.6666666666666666,
              "#ed7953"
             ],
             [
              0.7777777777777778,
              "#fb9f3a"
             ],
             [
              0.8888888888888888,
              "#fdca26"
             ],
             [
              1,
              "#f0f921"
             ]
            ],
            "type": "heatmap"
           }
          ],
          "heatmapgl": [
           {
            "colorbar": {
             "outlinewidth": 0,
             "ticks": ""
            },
            "colorscale": [
             [
              0,
              "#0d0887"
             ],
             [
              0.1111111111111111,
              "#46039f"
             ],
             [
              0.2222222222222222,
              "#7201a8"
             ],
             [
              0.3333333333333333,
              "#9c179e"
             ],
             [
              0.4444444444444444,
              "#bd3786"
             ],
             [
              0.5555555555555556,
              "#d8576b"
             ],
             [
              0.6666666666666666,
              "#ed7953"
             ],
             [
              0.7777777777777778,
              "#fb9f3a"
             ],
             [
              0.8888888888888888,
              "#fdca26"
             ],
             [
              1,
              "#f0f921"
             ]
            ],
            "type": "heatmapgl"
           }
          ],
          "histogram": [
           {
            "marker": {
             "pattern": {
              "fillmode": "overlay",
              "size": 10,
              "solidity": 0.2
             }
            },
            "type": "histogram"
           }
          ],
          "histogram2d": [
           {
            "colorbar": {
             "outlinewidth": 0,
             "ticks": ""
            },
            "colorscale": [
             [
              0,
              "#0d0887"
             ],
             [
              0.1111111111111111,
              "#46039f"
             ],
             [
              0.2222222222222222,
              "#7201a8"
             ],
             [
              0.3333333333333333,
              "#9c179e"
             ],
             [
              0.4444444444444444,
              "#bd3786"
             ],
             [
              0.5555555555555556,
              "#d8576b"
             ],
             [
              0.6666666666666666,
              "#ed7953"
             ],
             [
              0.7777777777777778,
              "#fb9f3a"
             ],
             [
              0.8888888888888888,
              "#fdca26"
             ],
             [
              1,
              "#f0f921"
             ]
            ],
            "type": "histogram2d"
           }
          ],
          "histogram2dcontour": [
           {
            "colorbar": {
             "outlinewidth": 0,
             "ticks": ""
            },
            "colorscale": [
             [
              0,
              "#0d0887"
             ],
             [
              0.1111111111111111,
              "#46039f"
             ],
             [
              0.2222222222222222,
              "#7201a8"
             ],
             [
              0.3333333333333333,
              "#9c179e"
             ],
             [
              0.4444444444444444,
              "#bd3786"
             ],
             [
              0.5555555555555556,
              "#d8576b"
             ],
             [
              0.6666666666666666,
              "#ed7953"
             ],
             [
              0.7777777777777778,
              "#fb9f3a"
             ],
             [
              0.8888888888888888,
              "#fdca26"
             ],
             [
              1,
              "#f0f921"
             ]
            ],
            "type": "histogram2dcontour"
           }
          ],
          "mesh3d": [
           {
            "colorbar": {
             "outlinewidth": 0,
             "ticks": ""
            },
            "type": "mesh3d"
           }
          ],
          "parcoords": [
           {
            "line": {
             "colorbar": {
              "outlinewidth": 0,
              "ticks": ""
             }
            },
            "type": "parcoords"
           }
          ],
          "pie": [
           {
            "automargin": true,
            "type": "pie"
           }
          ],
          "scatter": [
           {
            "fillpattern": {
             "fillmode": "overlay",
             "size": 10,
             "solidity": 0.2
            },
            "type": "scatter"
           }
          ],
          "scatter3d": [
           {
            "line": {
             "colorbar": {
              "outlinewidth": 0,
              "ticks": ""
             }
            },
            "marker": {
             "colorbar": {
              "outlinewidth": 0,
              "ticks": ""
             }
            },
            "type": "scatter3d"
           }
          ],
          "scattercarpet": [
           {
            "marker": {
             "colorbar": {
              "outlinewidth": 0,
              "ticks": ""
             }
            },
            "type": "scattercarpet"
           }
          ],
          "scattergeo": [
           {
            "marker": {
             "colorbar": {
              "outlinewidth": 0,
              "ticks": ""
             }
            },
            "type": "scattergeo"
           }
          ],
          "scattergl": [
           {
            "marker": {
             "colorbar": {
              "outlinewidth": 0,
              "ticks": ""
             }
            },
            "type": "scattergl"
           }
          ],
          "scattermapbox": [
           {
            "marker": {
             "colorbar": {
              "outlinewidth": 0,
              "ticks": ""
             }
            },
            "type": "scattermapbox"
           }
          ],
          "scatterpolar": [
           {
            "marker": {
             "colorbar": {
              "outlinewidth": 0,
              "ticks": ""
             }
            },
            "type": "scatterpolar"
           }
          ],
          "scatterpolargl": [
           {
            "marker": {
             "colorbar": {
              "outlinewidth": 0,
              "ticks": ""
             }
            },
            "type": "scatterpolargl"
           }
          ],
          "scatterternary": [
           {
            "marker": {
             "colorbar": {
              "outlinewidth": 0,
              "ticks": ""
             }
            },
            "type": "scatterternary"
           }
          ],
          "surface": [
           {
            "colorbar": {
             "outlinewidth": 0,
             "ticks": ""
            },
            "colorscale": [
             [
              0,
              "#0d0887"
             ],
             [
              0.1111111111111111,
              "#46039f"
             ],
             [
              0.2222222222222222,
              "#7201a8"
             ],
             [
              0.3333333333333333,
              "#9c179e"
             ],
             [
              0.4444444444444444,
              "#bd3786"
             ],
             [
              0.5555555555555556,
              "#d8576b"
             ],
             [
              0.6666666666666666,
              "#ed7953"
             ],
             [
              0.7777777777777778,
              "#fb9f3a"
             ],
             [
              0.8888888888888888,
              "#fdca26"
             ],
             [
              1,
              "#f0f921"
             ]
            ],
            "type": "surface"
           }
          ],
          "table": [
           {
            "cells": {
             "fill": {
              "color": "#EBF0F8"
             },
             "line": {
              "color": "white"
             }
            },
            "header": {
             "fill": {
              "color": "#C8D4E3"
             },
             "line": {
              "color": "white"
             }
            },
            "type": "table"
           }
          ]
         },
         "layout": {
          "annotationdefaults": {
           "arrowcolor": "#2a3f5f",
           "arrowhead": 0,
           "arrowwidth": 1
          },
          "autotypenumbers": "strict",
          "coloraxis": {
           "colorbar": {
            "outlinewidth": 0,
            "ticks": ""
           }
          },
          "colorscale": {
           "diverging": [
            [
             0,
             "#8e0152"
            ],
            [
             0.1,
             "#c51b7d"
            ],
            [
             0.2,
             "#de77ae"
            ],
            [
             0.3,
             "#f1b6da"
            ],
            [
             0.4,
             "#fde0ef"
            ],
            [
             0.5,
             "#f7f7f7"
            ],
            [
             0.6,
             "#e6f5d0"
            ],
            [
             0.7,
             "#b8e186"
            ],
            [
             0.8,
             "#7fbc41"
            ],
            [
             0.9,
             "#4d9221"
            ],
            [
             1,
             "#276419"
            ]
           ],
           "sequential": [
            [
             0,
             "#0d0887"
            ],
            [
             0.1111111111111111,
             "#46039f"
            ],
            [
             0.2222222222222222,
             "#7201a8"
            ],
            [
             0.3333333333333333,
             "#9c179e"
            ],
            [
             0.4444444444444444,
             "#bd3786"
            ],
            [
             0.5555555555555556,
             "#d8576b"
            ],
            [
             0.6666666666666666,
             "#ed7953"
            ],
            [
             0.7777777777777778,
             "#fb9f3a"
            ],
            [
             0.8888888888888888,
             "#fdca26"
            ],
            [
             1,
             "#f0f921"
            ]
           ],
           "sequentialminus": [
            [
             0,
             "#0d0887"
            ],
            [
             0.1111111111111111,
             "#46039f"
            ],
            [
             0.2222222222222222,
             "#7201a8"
            ],
            [
             0.3333333333333333,
             "#9c179e"
            ],
            [
             0.4444444444444444,
             "#bd3786"
            ],
            [
             0.5555555555555556,
             "#d8576b"
            ],
            [
             0.6666666666666666,
             "#ed7953"
            ],
            [
             0.7777777777777778,
             "#fb9f3a"
            ],
            [
             0.8888888888888888,
             "#fdca26"
            ],
            [
             1,
             "#f0f921"
            ]
           ]
          },
          "colorway": [
           "#636efa",
           "#EF553B",
           "#00cc96",
           "#ab63fa",
           "#FFA15A",
           "#19d3f3",
           "#FF6692",
           "#B6E880",
           "#FF97FF",
           "#FECB52"
          ],
          "font": {
           "color": "#2a3f5f"
          },
          "geo": {
           "bgcolor": "white",
           "lakecolor": "white",
           "landcolor": "#E5ECF6",
           "showlakes": true,
           "showland": true,
           "subunitcolor": "white"
          },
          "hoverlabel": {
           "align": "left"
          },
          "hovermode": "closest",
          "mapbox": {
           "style": "light"
          },
          "paper_bgcolor": "white",
          "plot_bgcolor": "#E5ECF6",
          "polar": {
           "angularaxis": {
            "gridcolor": "white",
            "linecolor": "white",
            "ticks": ""
           },
           "bgcolor": "#E5ECF6",
           "radialaxis": {
            "gridcolor": "white",
            "linecolor": "white",
            "ticks": ""
           }
          },
          "scene": {
           "xaxis": {
            "backgroundcolor": "#E5ECF6",
            "gridcolor": "white",
            "gridwidth": 2,
            "linecolor": "white",
            "showbackground": true,
            "ticks": "",
            "zerolinecolor": "white"
           },
           "yaxis": {
            "backgroundcolor": "#E5ECF6",
            "gridcolor": "white",
            "gridwidth": 2,
            "linecolor": "white",
            "showbackground": true,
            "ticks": "",
            "zerolinecolor": "white"
           },
           "zaxis": {
            "backgroundcolor": "#E5ECF6",
            "gridcolor": "white",
            "gridwidth": 2,
            "linecolor": "white",
            "showbackground": true,
            "ticks": "",
            "zerolinecolor": "white"
           }
          },
          "shapedefaults": {
           "line": {
            "color": "#2a3f5f"
           }
          },
          "ternary": {
           "aaxis": {
            "gridcolor": "white",
            "linecolor": "white",
            "ticks": ""
           },
           "baxis": {
            "gridcolor": "white",
            "linecolor": "white",
            "ticks": ""
           },
           "bgcolor": "#E5ECF6",
           "caxis": {
            "gridcolor": "white",
            "linecolor": "white",
            "ticks": ""
           }
          },
          "title": {
           "x": 0.05
          },
          "xaxis": {
           "automargin": true,
           "gridcolor": "white",
           "linecolor": "white",
           "ticks": "",
           "title": {
            "standoff": 15
           },
           "zerolinecolor": "white",
           "zerolinewidth": 2
          },
          "yaxis": {
           "automargin": true,
           "gridcolor": "white",
           "linecolor": "white",
           "ticks": "",
           "title": {
            "standoff": 15
           },
           "zerolinecolor": "white",
           "zerolinewidth": 2
          }
         }
        },
        "width": 1100
       }
      }
     },
     "metadata": {},
     "output_type": "display_data"
    }
   ],
   "source": [
    "# Tabela com Plotly\n",
    "\n",
    "import plotly.graph_objects as go\n",
    "\n",
    "dados_formatados = [\n",
    "    clientes_em_queda[\"cliente\"],\n",
    "    clientes_em_queda[\"assessor\"]\n",
    "]\n",
    "\n",
    "for col in receita_pivot.columns:\n",
    "    dados_formatados.append(clientes_em_queda[col].map(lambda x: f\"R$ {x:,.2f}\".replace(',', 'X').replace('.', ',').replace('X', '.')))\n",
    "\n",
    "# Cabeçalhos\n",
    "header_vals = [\"Cliente\", \"Assessor\"] + [col.strftime('%b/%Y') for col in receita_pivot.columns]\n",
    "\n",
    "# Cores\n",
    "header_color = '#0B1C39'\n",
    "cell_color = '#E5ECF6'\n",
    "font_color = 'white'\n",
    "\n",
    "# Criando a tabela\n",
    "fig = go.Figure(data=[go.Table(\n",
    "    header=dict(\n",
    "        values=header_vals,\n",
    "        fill_color=header_color,\n",
    "        font=dict(color=font_color, size=13),\n",
    "        align='left'\n",
    "    ),\n",
    "    cells=dict(\n",
    "        values=dados_formatados,\n",
    "        fill_color=cell_color,\n",
    "        align='left'\n",
    "    )\n",
    ")])\n",
    "\n",
    "fig.update_layout(width=1100, height=400)\n",
    "fig.show()"
   ]
  },
  {
   "cell_type": "code",
   "execution_count": 33,
   "id": "a98168b3",
   "metadata": {},
   "outputs": [
    {
     "data": {
      "image/png": "[encoded data removed]",
      "text/plain": [
       "<Figure size 1200x600 with 1 Axes>"
      ]
     },
     "metadata": {},
     "output_type": "display_data"
    }
   ],
   "source": [
    "# Gráfico com Seaborn\n",
    "\n",
    "# Reorganizando os dados\n",
    "dados_plot = clientes_em_queda.melt(\n",
    "    id_vars=[\"cliente\", \"assessor\"],\n",
    "    value_vars=receita_pivot.columns,\n",
    "    var_name=\"mes\",\n",
    "    value_name=\"receita\"\n",
    ")\n",
    "\n",
    "# Ordenando os meses\n",
    "dados_plot[\"mes\"] = pd.to_datetime(dados_plot[\"mes\"])\n",
    "dados_plot = dados_plot.sort_values(\"mes\")\n",
    "\n",
    "# Criando o gráfico\n",
    "plt.figure(figsize=(12, 6))\n",
    "sns.lineplot(data=dados_plot, x=\"mes\", y=\"receita\", hue=\"cliente\", marker=\"o\", palette=\"dark\")\n",
    "\n",
    "plt.title(\"Clientes com Receita Decrescente\", fontsize=14)\n",
    "plt.xlabel(\"Mês\")\n",
    "plt.ylabel(\"Receita (R$)\")\n",
    "plt.xticks(rotation=45)\n",
    "plt.grid(True)\n",
    "plt.tight_layout()\n",
    "plt.legend(title=\"Cliente\", bbox_to_anchor=(1.05, 1), loc=\"upper left\")\n",
    "plt.show()\n",
    "\n"
   ]
  },
  {
   "cell_type": "markdown",
   "id": "e7e1d48b",
   "metadata": {},
   "source": [
    "## Automação - Desafio bônus"
   ]
  },
  {
   "cell_type": "code",
   "execution_count": 34,
   "id": "e7f87f1f",
   "metadata": {},
   "outputs": [],
   "source": [
    "# Código completo para geração de relatórios com logo e dados em tabela:"
   ]
  },
  {
   "cell_type": "code",
   "execution_count": 35,
   "id": "b143ad58",
   "metadata": {},
   "outputs": [
    {
     "name": "stdout",
     "output_type": "stream",
     "text": [
      "Relatórios gerados e compactados com sucesso!\n"
     ]
    }
   ],
   "source": [
    "from reportlab.lib.pagesizes import A4\n",
    "from reportlab.platypus import SimpleDocTemplate, Paragraph, Spacer, Table, TableStyle\n",
    "from reportlab.lib.styles import getSampleStyleSheet\n",
    "from reportlab.lib import colors\n",
    "import os\n",
    "from zipfile import ZipFile\n",
    "from fpdf import FPDF\n",
    "\n",
    "# CARREGAR BASES DO EXCEL\n",
    "clientes = pd.read_excel(\"base_desafio_limpa.xlsx\", sheet_name=\"clientes\")\n",
    "receita = pd.read_excel(\"base_desafio_limpa.xlsx\", sheet_name=\"receita\")\n",
    "custodia = pd.read_excel(\"base_desafio_limpa.xlsx\", sheet_name=\"custodia\")\n",
    "\n",
    "# TRATAR E UNIFICAR DADOS\n",
    "dados = pd.merge(receita, custodia, on=[\"cliente\", \"mes\", \"classe_de_ativo\"], how=\"outer\")\n",
    "dados = pd.merge(dados, clientes[[\"cliente\", \"assessor\"]], on=\"cliente\", how=\"left\")\n",
    "\n",
    "# Agrupar dados por cliente, mês e assessor\n",
    "dados_agrupados = dados.groupby([\"cliente\", \"assessor\", \"mes\"]).agg({\n",
    "    \"volume_alocado\": \"sum\",\n",
    "    \"receita\": \"sum\"\n",
    "}).reset_index()\n",
    "\n",
    "# GERAR RELATÓRIOS PDF\n",
    "os.makedirs(\"relatorios\", exist_ok=True)\n",
    "\n",
    "for cliente_id in dados_agrupados[\"cliente\"].unique():\n",
    "    df_cliente = dados_agrupados[dados_agrupados[\"cliente\"] == cliente_id]\n",
    "    if df_cliente.empty:\n",
    "        continue\n",
    "\n",
    "    assessor = df_cliente[\"assessor\"].iloc[0]\n",
    "    nome_arquivo = f\"relatorios/Relatorio_{cliente_id}.pdf\"\n",
    "\n",
    "    pdf = FPDF()\n",
    "    pdf.add_page()\n",
    "    pdf.set_auto_page_break(auto=True, margin=15)\n",
    "\n",
    "    \n",
    "    # Título\n",
    "    pdf.set_font(\"Arial\", 'B', 16)\n",
    "    pdf.set_text_color(19, 56, 84)\n",
    "    pdf.cell(0, 10, f\"Relatório do Cliente {cliente_id}\", ln=True)\n",
    "\n",
    "    # Assessor\n",
    "    pdf.set_font(\"Arial\", '', 12)\n",
    "    pdf.set_text_color(0, 0, 0)\n",
    "    pdf.cell(0, 10, f\"Assessor Responsável: {assessor}\", ln=True)\n",
    "\n",
    "    pdf.ln(5)\n",
    "    pdf.set_font(\"Arial\", 'B', 12)\n",
    "    pdf.set_fill_color(19, 56, 84)\n",
    "    pdf.set_text_color(255, 255, 255)\n",
    "\n",
    "    pdf.cell(40, 10, \"Mês\", border=1, fill=True)\n",
    "    pdf.cell(60, 10, \"Volume Alocado (R$)\", border=1, fill=True)\n",
    "    pdf.cell(60, 10, \"Receita (R$)\", border=1, fill=True)\n",
    "    pdf.ln()\n",
    "\n",
    "    pdf.set_font(\"Arial\", '', 12)\n",
    "    pdf.set_text_color(0, 0, 0)\n",
    "\n",
    "    for _, row in df_cliente.iterrows():\n",
    "        mes_formatado = pd.to_datetime(row[\"mes\"]).strftime(\"%Y-%m\")\n",
    "        vol = f\"R$ {row['volume_alocado']:,.2f}\".replace(\",\", \"X\").replace(\".\", \",\").replace(\"X\", \".\")\n",
    "        rec = f\"R$ {row['receita']:,.2f}\".replace(\",\", \"X\").replace(\".\", \",\").replace(\"X\", \".\")\n",
    "        pdf.cell(40, 10, mes_formatado, border=1)\n",
    "        pdf.cell(60, 10, vol, border=1)\n",
    "        pdf.cell(60, 10, rec, border=1)\n",
    "        pdf.ln()\n",
    "\n",
    "    pdf.output(nome_arquivo)\n",
    "\n",
    "# COMPACTAR EM .ZIP\n",
    "with ZipFile(\"relatorios_clientes.zip\", \"w\") as zipf:\n",
    "    for root, dirs, files in os.walk(\"relatorios\"):\n",
    "        for file in files:\n",
    "            zipf.write(os.path.join(root, file), arcname=file)\n",
    "\n",
    "print(\"Relatórios gerados e compactados com sucesso!\")"
   ]
  }
 ],
 "metadata": {
  "kernelspec": {
   "display_name": "Python 3",
   "language": "python",
   "name": "python3"
  },
  "language_info": {
   "codemirror_mode": {
    "name": "ipython",
    "version": 3
   },
   "file_extension": ".py",
   "mimetype": "text/x-python",
   "name": "python",
   "nbconvert_exporter": "python",
   "pygments_lexer": "ipython3",
   "version": "3.10.11"
  }
 },
 "nbformat": 4,
 "nbformat_minor": 5
}
